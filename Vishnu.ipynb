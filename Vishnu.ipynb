{
  "nbformat": 4,
  "nbformat_minor": 0,
  "metadata": {
    "colab": {
      "provenance": [],
      "authorship_tag": "ABX9TyOeVaM5lB0eY6xtrmt32ZHb",
      "include_colab_link": true
    },
    "kernelspec": {
      "name": "python3",
      "display_name": "Python 3"
    },
    "language_info": {
      "name": "python"
    }
  },
  "cells": [
    {
      "cell_type": "markdown",
      "metadata": {
        "id": "view-in-github",
        "colab_type": "text"
      },
      "source": [
        "<a href=\"https://colab.research.google.com/github/vishnuu143/python/blob/main/Vishnu.ipynb\" target=\"_parent\"><img src=\"https://colab.research.google.com/assets/colab-badge.svg\" alt=\"Open In Colab\"/></a>"
      ]
    },
    {
      "cell_type": "code",
      "execution_count": null,
      "metadata": {
        "colab": {
          "base_uri": "https://localhost:8080/"
        },
        "id": "2Z8vwn3CchjQ",
        "outputId": "44683e9e-7b9d-452f-fa61-c315a74af1e4"
      },
      "outputs": [
        {
          "output_type": "execute_result",
          "data": {
            "text/plain": [
              "15"
            ]
          },
          "metadata": {},
          "execution_count": 2
        }
      ],
      "source": [
        "10+5\n"
      ]
    },
    {
      "cell_type": "code",
      "source": [
        "#subtraction of two numbers\n",
        "a=5\n",
        "b=2\n",
        "c=a-b\n",
        "print(\"Difference of two numbers\",c)"
      ],
      "metadata": {
        "colab": {
          "base_uri": "https://localhost:8080/"
        },
        "id": "D_jQds0icu7u",
        "outputId": "d8917efd-7a68-4e58-860f-2c5995429f8c"
      },
      "execution_count": null,
      "outputs": [
        {
          "output_type": "stream",
          "name": "stdout",
          "text": [
            "Difference of two numbers 3\n"
          ]
        }
      ]
    },
    {
      "cell_type": "code",
      "source": [
        "#addition of two numbers\n",
        "a=6\n",
        "b=98\n",
        "c=a+b\n",
        "print(\"sum of two numbers\",c)"
      ],
      "metadata": {
        "id": "YSCG4mFfdFwG",
        "colab": {
          "base_uri": "https://localhost:8080/"
        },
        "outputId": "c8cb2803-bb8f-4511-f8fe-80e2ddc1c44b"
      },
      "execution_count": null,
      "outputs": [
        {
          "output_type": "stream",
          "name": "stdout",
          "text": [
            "sum of two numbers 104\n"
          ]
        }
      ]
    },
    {
      "cell_type": "code",
      "source": [
        "#multiplication of two numbers\n",
        "a=79\n",
        "b=45\n",
        "c=a*b\n",
        "print(\"multiplication of two numbers\",c)"
      ],
      "metadata": {
        "colab": {
          "base_uri": "https://localhost:8080/"
        },
        "id": "FAdVpbT5gZfk",
        "outputId": "18d41630-a77a-4f77-851c-9629b5123635"
      },
      "execution_count": null,
      "outputs": [
        {
          "output_type": "stream",
          "name": "stdout",
          "text": [
            "multiplication of two numbers 3555\n"
          ]
        }
      ]
    },
    {
      "cell_type": "code",
      "source": [
        "#divison of two numbers\n",
        "a=54\n",
        "b=65\n",
        "c=a/b\n",
        "print(\"divison of two numbers\",c)"
      ],
      "metadata": {
        "colab": {
          "base_uri": "https://localhost:8080/"
        },
        "id": "Fi25__Z3hO4t",
        "outputId": "0ea2502c-b178-411a-b646-f87d596f617d"
      },
      "execution_count": null,
      "outputs": [
        {
          "output_type": "stream",
          "name": "stdout",
          "text": [
            "divison of two numbers 0.8307692307692308\n"
          ]
        }
      ]
    },
    {
      "cell_type": "code",
      "source": [
        "#floorodivison of two numbers\n",
        "a=66\n",
        "b=25\n",
        "c=a//b\n",
        "print(\"floordivison of two numbers\",c)"
      ],
      "metadata": {
        "colab": {
          "base_uri": "https://localhost:8080/"
        },
        "id": "DKZWK_MbhpnE",
        "outputId": "918d55b9-cc08-4cf7-d914-055ac6e44b72"
      },
      "execution_count": null,
      "outputs": [
        {
          "output_type": "stream",
          "name": "stdout",
          "text": [
            "floordivison of two numbers 2\n"
          ]
        }
      ]
    },
    {
      "cell_type": "code",
      "source": [
        "\n",
        "#modulus of two numbers\n",
        "a=5\n",
        "b=2\n",
        "c=a%b\n",
        "print(\"modulus of two numbers\",c)"
      ],
      "metadata": {
        "colab": {
          "base_uri": "https://localhost:8080/"
        },
        "id": "gRHfRC-2h6js",
        "outputId": "0d402c73-2b03-4a98-8510-0de75a3202c4"
      },
      "execution_count": null,
      "outputs": [
        {
          "output_type": "stream",
          "name": "stdout",
          "text": [
            "modulus of two numbers 1\n"
          ]
        }
      ]
    },
    {
      "cell_type": "code",
      "source": [
        "#average of marks in last semester\n",
        "a=int(input(\"marks obtained in PLC\",))\n",
        "b=int(input(\"marks obatined in PE\",))\n",
        "average = a+b/2\n",
        "print(average)"
      ],
      "metadata": {
        "colab": {
          "base_uri": "https://localhost:8080/"
        },
        "id": "F8xmZUA5jggt",
        "outputId": "4682945d-6a42-4b56-d72f-a659e129f265"
      },
      "execution_count": null,
      "outputs": [
        {
          "output_type": "stream",
          "name": "stdout",
          "text": [
            "marks obtained in PLC66\n",
            "marks obatined in PE89\n",
            "110.5\n"
          ]
        }
      ]
    },
    {
      "cell_type": "code",
      "source": [
        "#average of marks in last semester\n",
        "a=int(input(\"marks obtained in plc\",))\n",
        "b=int(input(\"marks obtained in pe\",))\n",
        "c=int(input(\"marks obtained in acm\",))\n",
        "d=int(input(\"marks obtained in ade\",))\n",
        "e=int(input(\"marks obtained in qalr\",))\n",
        "average=a+b+c+d+e/5\n",
        "print(average)"
      ],
      "metadata": {
        "colab": {
          "base_uri": "https://localhost:8080/"
        },
        "id": "vli3UYFOkIPU",
        "outputId": "eacec637-ff5c-4072-df24-21657fe301c5"
      },
      "execution_count": null,
      "outputs": [
        {
          "output_type": "stream",
          "name": "stdout",
          "text": [
            "marks obtained in plc87\n",
            "marks obtained in pe54\n",
            "marks obtained in acm65\n",
            "marks obtained in ade87\n",
            "marks obtained in qalr32\n",
            "299.4\n"
          ]
        }
      ]
    },
    {
      "cell_type": "code",
      "source": [],
      "metadata": {
        "id": "SYNXLH9dnfdV"
      },
      "execution_count": null,
      "outputs": []
    }
  ]
}